{
 "cells": [
  {
   "cell_type": "code",
   "execution_count": 17,
   "id": "55263ec2",
   "metadata": {},
   "outputs": [],
   "source": [
    "import heapq\n",
    "from collections import defaultdict\n",
    "\n",
    "def dijkstra(graph, start, end):\n",
    "    # 그래프를 인접 리스트로 변환\n",
    "    adj_list = defaultdict(list)\n",
    "    for u, v, cost in graph:\n",
    "        adj_list[u].append((v, cost))\n",
    "        adj_list[v].append((u, cost))  # 양방향 그래프라면\n",
    "    print(adj_list)\n",
    "    \n",
    "    # 거리 초기화\n",
    "    distances = {node: float('inf') for node in range(1, 7)}  # 1~6 노드\n",
    "    distances[start] = 0\n",
    "    #print(distances)\n",
    "    \n",
    "    # 우선순위 큐\n",
    "    pq = [(0, start)]\n",
    "    \n",
    "    while pq:\n",
    "        print(distances)\n",
    "        print(pq)\n",
    "        current_dist, current_node = heapq.heappop(pq)\n",
    "\n",
    "        if current_node == end:\n",
    "            return current_dist\n",
    "            \n",
    "        if current_dist > distances[current_node]:\n",
    "            continue\n",
    "            \n",
    "        for neighbor, weight in adj_list[current_node]:\n",
    "            distance = current_dist + weight\n",
    "            \n",
    "            if distance < distances[neighbor]:\n",
    "                distances[neighbor] = distance\n",
    "                heapq.heappush(pq, (distance, neighbor))\n",
    "    \n",
    "    return distances[end]"
   ]
  },
  {
   "cell_type": "code",
   "execution_count": 18,
   "id": "88e14c62",
   "metadata": {},
   "outputs": [
    {
     "name": "stdout",
     "output_type": "stream",
     "text": [
      "defaultdict(<class 'list'>, {4: [(1, 10), (6, 50), (2, 66)], 1: [(4, 10), (3, 41), (5, 24), (6, 25)], 3: [(5, 24), (1, 41), (2, 22)], 5: [(3, 24), (6, 2), (1, 24)], 6: [(5, 2), (4, 50), (1, 25)], 2: [(4, 66), (3, 22)]})\n",
      "{1: 0, 2: inf, 3: inf, 4: inf, 5: inf, 6: inf}\n",
      "[(0, 1)]\n",
      "{1: 0, 2: inf, 3: 41, 4: 10, 5: 24, 6: 25}\n",
      "[(10, 4), (25, 6), (24, 5), (41, 3)]\n",
      "{1: 0, 2: 76, 3: 41, 4: 10, 5: 24, 6: 25}\n",
      "[(24, 5), (25, 6), (41, 3), (76, 2)]\n",
      "{1: 0, 2: 76, 3: 41, 4: 10, 5: 24, 6: 25}\n",
      "[(25, 6), (76, 2), (41, 3)]\n",
      "{1: 0, 2: 76, 3: 41, 4: 10, 5: 24, 6: 25}\n",
      "[(41, 3), (76, 2)]\n",
      "{1: 0, 2: 63, 3: 41, 4: 10, 5: 24, 6: 25}\n",
      "[(63, 2), (76, 2)]\n",
      "result=63\n"
     ]
    }
   ],
   "source": [
    "graph = [[4, 1, 10], [3, 5, 24], [5, 6, 2], [3, 1, 41], [5, 1, 24], [4, 6, 50], [2, 4, 66], [2, 3, 22], [1, 6, 25]]\n",
    "start = 1\n",
    "end = 2\n",
    "result = dijkstra(graph, start, end)\n",
    "print(f\"result={result}\")"
   ]
  },
  {
   "cell_type": "code",
   "execution_count": null,
   "id": "5aede847",
   "metadata": {},
   "outputs": [
    {
     "name": "stdout",
     "output_type": "stream",
     "text": [
      "distances=defaultdict(<function dijkstra3.<locals>.<lambda> at 0x75e526bd58a0>, {1: 0}), pq=[(0, 1)]\n",
      "distances=defaultdict(<function dijkstra3.<locals>.<lambda> at 0x75e526bd58a0>, {1: 0, 4: 10, 3: 41, 5: 24, 6: 25}), pq=[(10, 4), (25, 6), (24, 5), (41, 3)]\n",
      "distances=defaultdict(<function dijkstra3.<locals>.<lambda> at 0x75e526bd58a0>, {1: 0, 4: 10, 3: 41, 5: 24, 6: 25, 2: 76}), pq=[(24, 5), (25, 6), (41, 3), (76, 2)]\n",
      "distances=defaultdict(<function dijkstra3.<locals>.<lambda> at 0x75e526bd58a0>, {1: 0, 4: 10, 3: 41, 5: 24, 6: 25, 2: 76}), pq=[(25, 6), (76, 2), (41, 3)]\n",
      "distances=defaultdict(<function dijkstra3.<locals>.<lambda> at 0x75e526bd58a0>, {1: 0, 4: 10, 3: 41, 5: 24, 6: 25, 2: 76}), pq=[(41, 3), (76, 2)]\n",
      "distances=defaultdict(<function dijkstra3.<locals>.<lambda> at 0x75e526bd58a0>, {1: 0, 4: 10, 3: 41, 5: 24, 6: 25, 2: 63}), pq=[(63, 2), (76, 2)]\n",
      "distances=defaultdict(<function dijkstra3.<locals>.<lambda> at 0x75e526bd58a0>, {1: 0, 4: 10, 3: 41, 5: 24, 6: 25, 2: 63}), pq=[(76, 2)]\n"
     ]
    },
    {
     "data": {
      "text/plain": [
       "inf"
      ]
     },
     "execution_count": 8,
     "metadata": {},
     "output_type": "execute_result"
    }
   ],
   "source": [
    "import collections\n",
    "import heapq\n",
    "\n",
    "\n",
    "def dijkstra3( graph, start, end ):\n",
    "    # convert adjacency list\n",
    "    adjacency_list = collections.defaultdict(list)\n",
    "    for node1, node2, weight in graph:\n",
    "        adjacency_list[node1].append((node2, weight))\n",
    "        adjacency_list[node2].append((node1, weight))\n",
    "    #print(adjacency_list)\n",
    "\n",
    "    # initialize distance\n",
    "    distances = collections.defaultdict(lambda: float('inf'))\n",
    "    #{node: float('inf') for node in adjacency_list.keys()}\n",
    "    distances[start] = 0\n",
    "    #print(distances)\n",
    "\n",
    "    # priority queue\n",
    "    pq = [(0, start)]\n",
    "    while pq:\n",
    "        print(f\"distances={distances}, pq={pq}\")\n",
    "        curr_dist, curr_node = heapq.heappop(pq)\n",
    "\n",
    "        if curr_node == end:\n",
    "            return curr_dist\n",
    "        \n",
    "        if curr_dist > distances[curr_node]:\n",
    "            continue\n",
    "\n",
    "        for neighbor, neighbor_distance in adjacency_list[curr_node]:\n",
    "            new_distance = curr_dist + neighbor_distance\n",
    "\n",
    "            if new_distance < distances[neighbor]:\n",
    "                distances[neighbor] = new_distance\n",
    "                heapq.heappush(pq, (new_distance, neighbor))\n",
    "\n",
    "    return distances[end]\n",
    "\n",
    "graph = [[4, 1, 10], [3, 5, 24], [5, 6, 2], [3, 1, 41], [5, 1, 24], [4, 6, 50], [2, 4, 66], [2, 3, 22], [1, 6, 25]]\n",
    "dijkstra3(graph, 1, 7)"
   ]
  },
  {
   "cell_type": "code",
   "execution_count": 9,
   "id": "9872bbf6",
   "metadata": {},
   "outputs": [],
   "source": [
    "def dijkstra3(adjacency_list, start) :\n",
    "    pass\n",
    "\n"
   ]
  },
  {
   "cell_type": "code",
   "execution_count": null,
   "id": "41ca325d",
   "metadata": {},
   "outputs": [
    {
     "name": "stdout",
     "output_type": "stream",
     "text": [
      "0 9 4\n",
      "first\n",
      "1 8 4\n",
      "middle\n",
      "2 1 4\n",
      "middle\n",
      "3 7 4\n",
      "last\n"
     ]
    }
   ],
   "source": [
    "l = [9,8,1, 7]\n",
    "length = len(l)\n",
    "if l:\n",
    "    print(0, l[0], length)\n",
    "    print('first')\n",
    "    \n",
    "    if i == 0:\n",
    "        print('first')\n",
    "    elif i < len(l)-1:\n",
    "        print('middle')\n",
    "    else :\n",
    "        print('last')"
   ]
  },
  {
   "cell_type": "code",
   "execution_count": null,
   "id": "40febfba",
   "metadata": {},
   "outputs": [],
   "source": []
  },
  {
   "cell_type": "code",
   "execution_count": 19,
   "id": "88cb4f2a",
   "metadata": {},
   "outputs": [
    {
     "ename": "IndexError",
     "evalue": "list assignment index out of range",
     "output_type": "error",
     "traceback": [
      "\u001b[31m---------------------------------------------------------------------------\u001b[39m",
      "\u001b[31mIndexError\u001b[39m                                Traceback (most recent call last)",
      "\u001b[36mCell\u001b[39m\u001b[36m \u001b[39m\u001b[32mIn[19]\u001b[39m\u001b[32m, line 25\u001b[39m\n\u001b[32m     21\u001b[39m     \u001b[38;5;28mprint\u001b[39m(sum_triangle)\n\u001b[32m     23\u001b[39m     \u001b[38;5;28;01mreturn\u001b[39;00m \u001b[32m0\u001b[39m\n\u001b[32m---> \u001b[39m\u001b[32m25\u001b[39m \u001b[43msolution\u001b[49m\u001b[43m(\u001b[49m\u001b[43m[\u001b[49m\u001b[43m[\u001b[49m\u001b[32;43m7\u001b[39;49m\u001b[43m]\u001b[49m\u001b[43m,\u001b[49m\u001b[43m \u001b[49m\u001b[43m[\u001b[49m\u001b[32;43m3\u001b[39;49m\u001b[43m,\u001b[49m\u001b[43m \u001b[49m\u001b[32;43m8\u001b[39;49m\u001b[43m]\u001b[49m\u001b[43m,\u001b[49m\u001b[43m \u001b[49m\u001b[43m[\u001b[49m\u001b[32;43m8\u001b[39;49m\u001b[43m,\u001b[49m\u001b[43m \u001b[49m\u001b[32;43m1\u001b[39;49m\u001b[43m,\u001b[49m\u001b[43m \u001b[49m\u001b[32;43m0\u001b[39;49m\u001b[43m]\u001b[49m\u001b[43m,\u001b[49m\u001b[43m \u001b[49m\u001b[43m[\u001b[49m\u001b[32;43m2\u001b[39;49m\u001b[43m,\u001b[49m\u001b[43m \u001b[49m\u001b[32;43m7\u001b[39;49m\u001b[43m,\u001b[49m\u001b[43m \u001b[49m\u001b[32;43m4\u001b[39;49m\u001b[43m,\u001b[49m\u001b[43m \u001b[49m\u001b[32;43m4\u001b[39;49m\u001b[43m]\u001b[49m\u001b[43m,\u001b[49m\u001b[43m \u001b[49m\u001b[43m[\u001b[49m\u001b[32;43m4\u001b[39;49m\u001b[43m,\u001b[49m\u001b[43m \u001b[49m\u001b[32;43m5\u001b[39;49m\u001b[43m,\u001b[49m\u001b[43m \u001b[49m\u001b[32;43m2\u001b[39;49m\u001b[43m,\u001b[49m\u001b[43m \u001b[49m\u001b[32;43m6\u001b[39;49m\u001b[43m,\u001b[49m\u001b[43m \u001b[49m\u001b[32;43m5\u001b[39;49m\u001b[43m]\u001b[49m\u001b[43m]\u001b[49m\u001b[43m)\u001b[49m\n",
      "\u001b[36mCell\u001b[39m\u001b[36m \u001b[39m\u001b[32mIn[19]\u001b[39m\u001b[32m, line 13\u001b[39m, in \u001b[36msolution\u001b[39m\u001b[34m(triangle)\u001b[39m\n\u001b[32m      8\u001b[39m \u001b[38;5;66;03m#print(triangle[0][0])\u001b[39;00m\n\u001b[32m      9\u001b[39m \u001b[38;5;66;03m#print(sum_triangle[0][0])\u001b[39;00m\n\u001b[32m     11\u001b[39m \u001b[38;5;28;01mfor\u001b[39;00m i \u001b[38;5;129;01min\u001b[39;00m \u001b[38;5;28mrange\u001b[39m(\u001b[32m1\u001b[39m, length): \u001b[38;5;66;03m# line\u001b[39;00m\n\u001b[32m     12\u001b[39m     \u001b[38;5;66;03m# first col\u001b[39;00m\n\u001b[32m---> \u001b[39m\u001b[32m13\u001b[39m     \u001b[43msum_triangle\u001b[49m\u001b[43m[\u001b[49m\u001b[43mi\u001b[49m\u001b[43m]\u001b[49m = [triangle[i][\u001b[32m0\u001b[39m]+sum_triangle[i-\u001b[32m1\u001b[39m][\u001b[32m0\u001b[39m]]\n\u001b[32m     14\u001b[39m     \u001b[38;5;66;03m# middle col\u001b[39;00m\n\u001b[32m     15\u001b[39m     \u001b[38;5;66;03m#for j in range(1, i):   # col\u001b[39;00m\n\u001b[32m     16\u001b[39m         \u001b[38;5;66;03m#sum_triangle.append(triangle[i][j]+sum_triangle[i-1][j-1])\u001b[39;00m\n\u001b[32m     17\u001b[39m         \u001b[38;5;66;03m#sum_triangle.append(triangle[i][j]+sum_triangle[i-1][j])\u001b[39;00m\n\u001b[32m     18\u001b[39m     \u001b[38;5;66;03m# last col\u001b[39;00m\n\u001b[32m     19\u001b[39m     sum_triangle[i].append([triangle[i][-\u001b[32m1\u001b[39m]+sum_triangle[i-\u001b[32m1\u001b[39m][-\u001b[32m1\u001b[39m]])\n",
      "\u001b[31mIndexError\u001b[39m: list assignment index out of range"
     ]
    }
   ],
   "source": [
    "def solution(triangle):\n",
    "    length = len(triangle) \n",
    "    if length == 1:\n",
    "        return triangle[0][0]\n",
    "    \n",
    "    sum_triangle = [[]]\n",
    "    sum_triangle[0] = triangle[0]\n",
    "    #print(triangle[0][0])\n",
    "    #print(sum_triangle[0][0])\n",
    "\n",
    "    for i in range(1, length): # line\n",
    "        # first col\n",
    "        sum_triangle[i] = [triangle[i][0]+sum_triangle[i-1][0]]\n",
    "        # middle col\n",
    "        #for j in range(1, i):   # col\n",
    "            #sum_triangle.append(triangle[i][j]+sum_triangle[i-1][j-1])\n",
    "            #sum_triangle.append(triangle[i][j]+sum_triangle[i-1][j])\n",
    "        # last col\n",
    "        sum_triangle[i].append([triangle[i][-1]+sum_triangle[i-1][-1]])\n",
    "        \n",
    "    print(sum_triangle)\n",
    "               \n",
    "    return 0\n",
    "\n",
    "solution([[7], [3, 8], [8, 1, 0], [2, 7, 4, 4], [4, 5, 2, 6, 5]])"
   ]
  },
  {
   "cell_type": "code",
   "execution_count": null,
   "id": "1dbd9cd3",
   "metadata": {},
   "outputs": [],
   "source": []
  }
 ],
 "metadata": {
  "kernelspec": {
   "display_name": ".venv (3.13.3)",
   "language": "python",
   "name": "python3"
  },
  "language_info": {
   "codemirror_mode": {
    "name": "ipython",
    "version": 3
   },
   "file_extension": ".py",
   "mimetype": "text/x-python",
   "name": "python",
   "nbconvert_exporter": "python",
   "pygments_lexer": "ipython3",
   "version": "3.13.3"
  }
 },
 "nbformat": 4,
 "nbformat_minor": 5
}
