{
 "cells": [
  {
   "cell_type": "code",
   "execution_count": 17,
   "id": "55263ec2",
   "metadata": {},
   "outputs": [],
   "source": [
    "import heapq\n",
    "from collections import defaultdict\n",
    "\n",
    "def dijkstra(graph, start, end):\n",
    "    # 그래프를 인접 리스트로 변환\n",
    "    adj_list = defaultdict(list)\n",
    "    for u, v, cost in graph:\n",
    "        adj_list[u].append((v, cost))\n",
    "        adj_list[v].append((u, cost))  # 양방향 그래프라면\n",
    "    print(adj_list)\n",
    "    \n",
    "    # 거리 초기화\n",
    "    distances = {node: float('inf') for node in range(1, 7)}  # 1~6 노드\n",
    "    distances[start] = 0\n",
    "    #print(distances)\n",
    "    \n",
    "    # 우선순위 큐\n",
    "    pq = [(0, start)]\n",
    "    \n",
    "    while pq:\n",
    "        print(distances)\n",
    "        print(pq)\n",
    "        current_dist, current_node = heapq.heappop(pq)\n",
    "\n",
    "        if current_node == end:\n",
    "            return current_dist\n",
    "            \n",
    "        if current_dist > distances[current_node]:\n",
    "            continue\n",
    "            \n",
    "        for neighbor, weight in adj_list[current_node]:\n",
    "            distance = current_dist + weight\n",
    "            \n",
    "            if distance < distances[neighbor]:\n",
    "                distances[neighbor] = distance\n",
    "                heapq.heappush(pq, (distance, neighbor))\n",
    "    \n",
    "    return distances[end]"
   ]
  },
  {
   "cell_type": "code",
   "execution_count": 18,
   "id": "88e14c62",
   "metadata": {},
   "outputs": [
    {
     "name": "stdout",
     "output_type": "stream",
     "text": [
      "defaultdict(<class 'list'>, {4: [(1, 10), (6, 50), (2, 66)], 1: [(4, 10), (3, 41), (5, 24), (6, 25)], 3: [(5, 24), (1, 41), (2, 22)], 5: [(3, 24), (6, 2), (1, 24)], 6: [(5, 2), (4, 50), (1, 25)], 2: [(4, 66), (3, 22)]})\n",
      "{1: 0, 2: inf, 3: inf, 4: inf, 5: inf, 6: inf}\n",
      "[(0, 1)]\n",
      "{1: 0, 2: inf, 3: 41, 4: 10, 5: 24, 6: 25}\n",
      "[(10, 4), (25, 6), (24, 5), (41, 3)]\n",
      "{1: 0, 2: 76, 3: 41, 4: 10, 5: 24, 6: 25}\n",
      "[(24, 5), (25, 6), (41, 3), (76, 2)]\n",
      "{1: 0, 2: 76, 3: 41, 4: 10, 5: 24, 6: 25}\n",
      "[(25, 6), (76, 2), (41, 3)]\n",
      "{1: 0, 2: 76, 3: 41, 4: 10, 5: 24, 6: 25}\n",
      "[(41, 3), (76, 2)]\n",
      "{1: 0, 2: 63, 3: 41, 4: 10, 5: 24, 6: 25}\n",
      "[(63, 2), (76, 2)]\n",
      "result=63\n"
     ]
    }
   ],
   "source": [
    "graph = [[4, 1, 10], [3, 5, 24], [5, 6, 2], [3, 1, 41], [5, 1, 24], [4, 6, 50], [2, 4, 66], [2, 3, 22], [1, 6, 25]]\n",
    "start = 1\n",
    "end = 2\n",
    "result = dijkstra(graph, start, end)\n",
    "print(f\"result={result}\")"
   ]
  },
  {
   "cell_type": "code",
   "execution_count": 12,
   "id": "5aede847",
   "metadata": {},
   "outputs": [
    {
     "name": "stdout",
     "output_type": "stream",
     "text": [
      "distances={4: 0, 1: inf, 3: inf, 5: inf, 6: inf, 2: inf}, pq=[(0, 4)]\n",
      "distances={4: 0, 1: 10, 3: inf, 5: inf, 6: 50, 2: 66}, pq=[(10, 1), (50, 6), (66, 2)]\n",
      "distances={4: 0, 1: 10, 3: 51, 5: 34, 6: 35, 2: 66}, pq=[(34, 5), (35, 6), (51, 3), (66, 2), (50, 6)]\n",
      "distances={4: 0, 1: 10, 3: 51, 5: 34, 6: 35, 2: 66}, pq=[(35, 6), (50, 6), (51, 3), (66, 2)]\n",
      "distances={4: 0, 1: 10, 3: 51, 5: 34, 6: 35, 2: 66}, pq=[(50, 6), (66, 2), (51, 3)]\n",
      "distances={4: 0, 1: 10, 3: 51, 5: 34, 6: 35, 2: 66}, pq=[(51, 3), (66, 2)]\n"
     ]
    },
    {
     "data": {
      "text/plain": [
       "51"
      ]
     },
     "execution_count": 12,
     "metadata": {},
     "output_type": "execute_result"
    }
   ],
   "source": [
    "import collections\n",
    "import heapq\n",
    "\n",
    "def dijkstra3( graph, start, end ):\n",
    "    # convert adjacency list\n",
    "    adjacency_list = collections.defaultdict(list)\n",
    "    for node1, node2, weight in graph:\n",
    "        adjacency_list[node1].append((node2, weight))\n",
    "        adjacency_list[node2].append((node1, weight))\n",
    "    #print(adjacency_list)\n",
    "\n",
    "    # initialize distance\n",
    "    distances = {node: float('inf') for node in adjacency_list.keys()}\n",
    "    distances[start] = 0\n",
    "    #print(distances)\n",
    "\n",
    "    # priority queue\n",
    "    pq = [(0, start)]\n",
    "    while pq:\n",
    "        print(f\"distances={distances}, pq={pq}\")\n",
    "        curr_dist, curr_node = heapq.heappop(pq)\n",
    "\n",
    "        if curr_node == end:\n",
    "            return curr_dist\n",
    "        \n",
    "        if curr_dist > distances[curr_node]:\n",
    "            continue\n",
    "\n",
    "        for neighbor, neighbor_distance in adjacency_list[curr_node]:\n",
    "            new_distance = curr_dist + neighbor_distance\n",
    "\n",
    "            if new_distance < distances[neighbor]:\n",
    "                distances[neighbor] = new_distance\n",
    "                heapq.heappush(pq, (new_distance, neighbor))\n",
    "\n",
    "    return distances[end]\n",
    "\n",
    "graph = [[4, 1, 10], [3, 5, 24], [5, 6, 2], [3, 1, 41], [5, 1, 24], [4, 6, 50], [2, 4, 66], [2, 3, 22], [1, 6, 25]]\n",
    "dijkstra3(graph, 4, 3)"
   ]
  },
  {
   "cell_type": "code",
   "execution_count": null,
   "id": "41ca325d",
   "metadata": {},
   "outputs": [],
   "source": []
  }
 ],
 "metadata": {
  "kernelspec": {
   "display_name": ".venv (3.13.3)",
   "language": "python",
   "name": "python3"
  },
  "language_info": {
   "codemirror_mode": {
    "name": "ipython",
    "version": 3
   },
   "file_extension": ".py",
   "mimetype": "text/x-python",
   "name": "python",
   "nbconvert_exporter": "python",
   "pygments_lexer": "ipython3",
   "version": "3.13.3"
  }
 },
 "nbformat": 4,
 "nbformat_minor": 5
}
