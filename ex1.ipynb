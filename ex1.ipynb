{
 "cells": [
  {
   "cell_type": "code",
   "execution_count": 7,
   "id": "cb0c1219",
   "metadata": {},
   "outputs": [
    {
     "data": {
      "text/plain": [
       "array([1.48729878, 1.62336901])"
      ]
     },
     "execution_count": 7,
     "metadata": {},
     "output_type": "execute_result"
    }
   ],
   "source": [
    "import numpy as np\n",
    "\n",
    "A = np.random.rand(2, 5)\n",
    "np.sqrt(np.sum(A, axis=1))\n"
   ]
  },
  {
   "cell_type": "code",
   "execution_count": 12,
   "id": "f61d08a3",
   "metadata": {},
   "outputs": [],
   "source": [
    "import torch\n",
    "import torch.nn.functional as F"
   ]
  },
  {
   "cell_type": "code",
   "execution_count": 15,
   "id": "e908b0bf",
   "metadata": {},
   "outputs": [
    {
     "data": {
      "text/plain": [
       "tensor([0.0900, 0.2447, 0.6652])"
      ]
     },
     "execution_count": 15,
     "metadata": {},
     "output_type": "execute_result"
    }
   ],
   "source": [
    "A = torch.FloatTensor([1, 2, 3])\n",
    "F.softmax(A, dim=0)"
   ]
  },
  {
   "cell_type": "code",
   "execution_count": 1,
   "id": "b3ccbcc5",
   "metadata": {},
   "outputs": [],
   "source": [
    "def get_column(w, num):\n",
    "    num_i = num-1\n",
    "    c = num_i%w\n",
    "    if num_i//w % 2 == 0:\n",
    "        return c\n",
    "    else:\n",
    "        return (w-1)-c\n",
    "    \n",
    "def solution(n, w, num):\n",
    "    col_list = [[]*w]\n",
    "    print(col_list)\n",
    "    for i in range(n):\n",
    "        col_list[get_column(w,i)].append(i+1)\n",
    "    \n",
    "    answer = len([ e for e in col_list[get_column(w,num)] if e > num ])\n",
    "    return answer"
   ]
  },
  {
   "cell_type": "code",
   "execution_count": 10,
   "id": "bfd6d7cd",
   "metadata": {},
   "outputs": [
    {
     "name": "stdout",
     "output_type": "stream",
     "text": [
      "[[], [], [], [], [], []]\n"
     ]
    }
   ],
   "source": [
    "col_list = [[]]*6\n",
    "print(col_list)\n",
    "#col_list[get_column(6,8)]"
   ]
  },
  {
   "cell_type": "code",
   "execution_count": null,
   "id": "ab3e3f5e",
   "metadata": {},
   "outputs": [
    {
     "name": "stdout",
     "output_type": "stream",
     "text": [
      "[[]]\n"
     ]
    },
    {
     "ename": "IndexError",
     "evalue": "list index out of range",
     "output_type": "error",
     "traceback": [
      "\u001b[31m---------------------------------------------------------------------------\u001b[39m",
      "\u001b[31mIndexError\u001b[39m                                Traceback (most recent call last)",
      "\u001b[36mCell\u001b[39m\u001b[36m \u001b[39m\u001b[32mIn[2]\u001b[39m\u001b[32m, line 1\u001b[39m\n\u001b[32m----> \u001b[39m\u001b[32m1\u001b[39m \u001b[43msolution\u001b[49m\u001b[43m(\u001b[49m\u001b[32;43m22\u001b[39;49m\u001b[43m,\u001b[49m\u001b[43m \u001b[49m\u001b[32;43m6\u001b[39;49m\u001b[43m,\u001b[49m\u001b[32;43m8\u001b[39;49m\u001b[43m)\u001b[49m\n",
      "\u001b[36mCell\u001b[39m\u001b[36m \u001b[39m\u001b[32mIn[1]\u001b[39m\u001b[32m, line 13\u001b[39m, in \u001b[36msolution\u001b[39m\u001b[34m(n, w, num)\u001b[39m\n\u001b[32m     11\u001b[39m \u001b[38;5;28mprint\u001b[39m(col_list)\n\u001b[32m     12\u001b[39m \u001b[38;5;28;01mfor\u001b[39;00m i \u001b[38;5;129;01min\u001b[39;00m \u001b[38;5;28mrange\u001b[39m(n):\n\u001b[32m---> \u001b[39m\u001b[32m13\u001b[39m     \u001b[43mcol_list\u001b[49m\u001b[43m[\u001b[49m\u001b[43mget_column\u001b[49m\u001b[43m(\u001b[49m\u001b[43mw\u001b[49m\u001b[43m,\u001b[49m\u001b[43mi\u001b[49m\u001b[43m)\u001b[49m\u001b[43m]\u001b[49m.append(i+\u001b[32m1\u001b[39m)\n\u001b[32m     15\u001b[39m answer = \u001b[38;5;28mlen\u001b[39m([ e \u001b[38;5;28;01mfor\u001b[39;00m e \u001b[38;5;129;01min\u001b[39;00m col_list[get_column(w,num)] \u001b[38;5;28;01mif\u001b[39;00m e > num ])\n\u001b[32m     16\u001b[39m \u001b[38;5;28;01mreturn\u001b[39;00m answer\n",
      "\u001b[31mIndexError\u001b[39m: list index out of range"
     ]
    }
   ],
   "source": [
    "#olution(22, 6,8)"
   ]
  },
  {
   "cell_type": "code",
   "execution_count": 16,
   "id": "6ea92484",
   "metadata": {},
   "outputs": [
    {
     "name": "stdout",
     "output_type": "stream",
     "text": [
      "muzi frodo=>2\n",
      "muzi frodo\n",
      "ryan muzi=>3\n",
      "ryan muzi\n",
      "frodo muzi=>1\n",
      "frodo muzi\n",
      "frodo ryan=>1\n",
      "frodo ryan\n",
      "neo muzi=>1\n",
      "neo muzi\n"
     ]
    }
   ],
   "source": [
    "list = [\"muzi frodo\", \"muzi frodo\", \"ryan muzi\", \"ryan muzi\", \"ryan muzi\", \"frodo muzi\", \"frodo ryan\", \"neo muzi\"]\n",
    "dic = {'muzi frodo': 2, 'ryan muzi': 3, 'frodo muzi': 1, 'frodo ryan': 1, 'neo muzi': 1}\n",
    "for key, value in dic.items():\n",
    "    print(f\"{key}=>{value}\")\n",
    "    a, b = (key.split())\n",
    "    print(a, b)\n"
   ]
  },
  {
   "cell_type": "code",
   "execution_count": 21,
   "id": "3d597a40",
   "metadata": {},
   "outputs": [
    {
     "name": "stdout",
     "output_type": "stream",
     "text": [
      "{'muzi frodo': 2, 'ryan muzi': 3, 'frodo muzi': 1, 'frodo ryan': 1, 'neo muzi': 1}\n",
      "{'muzi': -3, 'frodo': 0, 'ryan': 2, 'neo': 1}\n",
      "<itertools.combinations object at 0x798c88593b00>\n",
      "muzi muzi\n",
      "muzi muzi\n",
      "muzi muzi\n",
      "ryan muzi\n",
      "ryan muzi\n",
      "frodo muzi\n",
      "{'ryan': 2, 'frodo': 1}\n"
     ]
    },
    {
     "data": {
      "text/plain": [
       "1"
      ]
     },
     "execution_count": 21,
     "metadata": {},
     "output_type": "execute_result"
    }
   ],
   "source": [
    "import itertools\n",
    "\n",
    "def solution(friends, gifts):    \n",
    "    gift_count = {}\n",
    "    for item in gifts:\n",
    "        gift_count[item] = gift_count.get(item, 0) + 1\n",
    "    print(gift_count)\n",
    "    gift_score = {}\n",
    "    for key, value in gift_count.items():\n",
    "        a_person, b_person = key.split()\n",
    "        gift_score[a_person] = gift_score.get(a_person,0)+value\n",
    "        gift_score[b_person] = gift_score.get(b_person,0)-value\n",
    "    print(gift_score)\n",
    "    \n",
    "    next_month = {}\n",
    "    cb = itertools.combinations(friends, 2)\n",
    "    print(cb)\n",
    "    for a_person, b_persion in cb:\n",
    "        print(a_person, b_person)\n",
    "        if gift_count.get(f\"{a_person} {b_persion}\",0) \\\n",
    "           > gift_count.get(f\"{a_person} {b_persion}\",0):\n",
    "            next_month[a_person] = next_month.get(a_person,0)+1\n",
    "        elif gift_count.get(f\"{a_person} {b_persion}\",0) \\\n",
    "           < gift_count.get(f\"{a_person} {b_persion}\",0):\n",
    "            next_month[b_persion] = next_month.get(b_persion,0)+1\n",
    "        elif gift_score.get(a_person,0) > gift_score.get(b_person,0) :\n",
    "            next_month[a_person] = next_month.get(a_person,0)+1\n",
    "        elif gift_score.get(a_person,0) < gift_score.get(b_person,0) :\n",
    "            next_month[b_person] = next_month.get(b_person,0)+1\n",
    "    print(next_month)\n",
    "    answer = max(next_month.values())\n",
    "    answer = 1\n",
    "    return answer\n",
    "\n",
    "friends = [\"muzi\", \"ryan\", \"frodo\", \"neo\"]\n",
    "gifts = [\"muzi frodo\", \"muzi frodo\", \"ryan muzi\", \"ryan muzi\", \"ryan muzi\", \"frodo muzi\", \"frodo ryan\", \"neo muzi\"]\n",
    "\n",
    "solution(friends, gifts)"
   ]
  },
  {
   "cell_type": "code",
   "execution_count": null,
   "id": "bfd5d367",
   "metadata": {},
   "outputs": [],
   "source": []
  }
 ],
 "metadata": {
  "kernelspec": {
   "display_name": ".venv (3.13.3)",
   "language": "python",
   "name": "python3"
  },
  "language_info": {
   "codemirror_mode": {
    "name": "ipython",
    "version": 3
   },
   "file_extension": ".py",
   "mimetype": "text/x-python",
   "name": "python",
   "nbconvert_exporter": "python",
   "pygments_lexer": "ipython3",
   "version": "3.13.3"
  }
 },
 "nbformat": 4,
 "nbformat_minor": 5
}
